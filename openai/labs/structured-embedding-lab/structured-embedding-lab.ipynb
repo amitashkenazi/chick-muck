{
 "cells": [
  {
   "cell_type": "code",
   "execution_count": 13,
   "metadata": {},
   "outputs": [
    {
     "name": "stdout",
     "output_type": "stream",
     "text": [
      "The dotenv extension is already loaded. To reload it, use:\n",
      "  %reload_ext dotenv\n",
      "https://amit-sandbox.openai.azure.com/\n",
      "{\n",
      "  \"data\": [\n",
      "    {\n",
      "      \"scale_settings\": {\n",
      "        \"scale_type\": \"standard\"\n",
      "      },\n",
      "      \"model\": \"text-ada-001\",\n",
      "      \"owner\": \"organization-owner\",\n",
      "      \"id\": \"Ada1\",\n",
      "      \"status\": \"succeeded\",\n",
      "      \"created_at\": 1676559783,\n",
      "      \"updated_at\": 1676559783,\n",
      "      \"object\": \"deployment\"\n",
      "    },\n",
      "    {\n",
      "      \"scale_settings\": {\n",
      "        \"scale_type\": \"standard\"\n",
      "      },\n",
      "      \"model\": \"text-embedding-ada-002\",\n",
      "      \"owner\": \"organization-owner\",\n",
      "      \"id\": \"embedding-model\",\n",
      "      \"status\": \"succeeded\",\n",
      "      \"created_at\": 1676563276,\n",
      "      \"updated_at\": 1676563276,\n",
      "      \"object\": \"deployment\"\n",
      "    },\n",
      "    {\n",
      "      \"scale_settings\": {\n",
      "        \"scale_type\": \"standard\"\n",
      "      },\n",
      "      \"model\": \"text-davinci-003\",\n",
      "      \"owner\": \"organization-owner\",\n",
      "      \"id\": \"davinchi-003\",\n",
      "      \"status\": \"succeeded\",\n",
      "      \"created_at\": 1676563605,\n",
      "      \"updated_at\": 1676563605,\n",
      "      \"object\": \"deployment\"\n",
      "    }\n",
      "  ],\n",
      "  \"object\": \"list\"\n",
      "}\n"
     ]
    }
   ],
   "source": [
    "%load_ext dotenv\n",
    "%dotenv\n",
    "import openai\n",
    "import re\n",
    "import requests\n",
    "import sys\n",
    "from num2words import num2words\n",
    "import os\n",
    "import pandas as pd\n",
    "import numpy as np\n",
    "from openai.embeddings_utils import get_embedding, cosine_similarity\n",
    "from transformers import GPT2TokenizerFast\n",
    "from pprint import pprint\n",
    "\n",
    "API_KEY = os.environ.get(\"AZURE_OPENAI_API_KEY\")\n",
    "RESOURCE_ENDPOINT = os.environ.get(\"AZURE_OPENAI_ENDPOINT\")\n",
    "\n",
    "openai.api_type = \"azure\"\n",
    "openai.api_key = API_KEY\n",
    "openai.api_base = RESOURCE_ENDPOINT\n",
    "openai.api_version = \"2022-12-01\"\n",
    "print(openai.api_base)\n",
    "url = openai.api_base + \"/openai/deployments?api-version=2022-12-01\"\n",
    "\n",
    "r = requests.get(url, headers={\"api-key\": API_KEY})\n",
    "\n",
    "print(r.text)"
   ]
  },
  {
   "cell_type": "code",
   "execution_count": 14,
   "metadata": {},
   "outputs": [],
   "source": [
    "def normalize_text(s, sep_token = \" \\n \"):\n",
    "    print(s)\n",
    "    s = re.sub(r'\\s+',  ' ', s).strip()\n",
    "    s = re.sub(r\". ,\",\"\",s)\n",
    "    # remove all instances of multiple spaces\n",
    "    s = s.replace(\"..\",\".\")\n",
    "    s = s.replace(\". .\",\".\")\n",
    "    s = s.replace(\"\\n\", \"\")\n",
    "    s = s.strip()\n",
    "    \n",
    "    return s\n"
   ]
  },
  {
   "cell_type": "code",
   "execution_count": 15,
   "metadata": {},
   "outputs": [
    {
     "name": "stdout",
     "output_type": "stream",
     "text": [
      "['data/openning bank account - FAQ.txt']\n",
      "Q: What documents do I need to bring with me to open a bank account at this bank in the US?\n",
      "A: You will need to bring a valid government-issued photo ID, such as a driver's license or passport, and proof of your current address, such as a utility bill or lease agreement.\n",
      "\n",
      "Q: Can I open a bank account if I don't have a Social Security Number?\n",
      "A: Yes, you can open a bank account without a Social Security Number, but you will need to provide an Individual Taxpayer Identification Number (ITIN) instead.\n",
      "\n",
      "Q: What types of bank accounts are available at this bank?\n",
      "A: This bank offers a variety of bank accounts, including checking accounts, savings accounts, money market accounts, and CDs.\n",
      "\n",
      "Q: Is there a minimum balance requirement to open and maintain a bank account?\n",
      "A: Yes, there is a minimum balance requirement for each type of account. The amount varies depending on the type of account you choose.\n",
      "\n",
      "Q: Are there any monthly fees associated with maintaining a bank account?\n",
      "A: Yes, there may be monthly fees associated with maintaining a bank account. The amount varies depending on the type of account you choose and the services you use.\n",
      "\n",
      "Q: Can I access my bank account online or through a mobile app?\n",
      "A: Yes, you can access your bank account online or through a mobile app. This bank offers online banking and a mobile app for its customers.\n",
      "\n",
      "Q: Can I link my bank account to other financial accounts, such as a credit card or investment account?\n",
      "A: Yes, you can link your bank account to other financial accounts, such as a credit card or investment account. This bank offers the ability to link accounts for its customers.\n",
      "\n",
      "Q: Are there any limitations on the number of transactions I can make with my bank account?\n",
      "A: Yes, there may be limitations on the number of transactions you can make with your bank account. The amount varies depending on the type of account you choose.\n",
      "\n",
      "Q: What is the process for closing a bank account?\n",
      "A: To close a bank account, you will need to visit a branch in person or contact customer service. You may be required to provide identification and fill out a form. Any remaining balance in the account will be distributed to you in the form of a check or transferred to another account.\n",
      "\n",
      "\n",
      "\n",
      "\n",
      "\n"
     ]
    }
   ],
   "source": [
    "from glob import glob\n",
    "print(glob(\"data/*.txt\"))\n",
    "# FAQ Example\n",
    "with open(\"data/openning bank account - FAQ.txt\", \"r\") as file:\n",
    "    doc = file.read()\n",
    "\n",
    "prompt = f\"\"\"\n",
    "            {normalize_text(doc)}\n",
    "            Create a list of questions and answer based on the FAQ document above. \n",
    "            Create the output as a readable json format with the following format:\n",
    "            \n",
    "            [\n",
    "                {{\"<the question1>\":\"<the answer1>\"\\}}\n",
    "                {{\"<the question2>\":\"<the answer2>\"\\}}\n",
    "            ]\n",
    "            \"\"\"    \n",
    "response = openai.Completion.create(engine=\"davinchi-003\", prompt=prompt, max_tokens=1024)\n",
    "text = response['choices'][0]['text']\n",
    "    "
   ]
  },
  {
   "cell_type": "code",
   "execution_count": 18,
   "metadata": {},
   "outputs": [
    {
     "name": "stdout",
     "output_type": "stream",
     "text": [
      "\n",
      "            [\n",
      "                {\"What documents do I need to bring with me to open a bank account at this bank in the US?\":\"You will need to bring a valid government-issued photo ID, such as a driver's license or passport, and proof of your current address, such as a utility bill or lease agreement.\"},\n",
      "                {\"Can I open a bank account if I don't have a Social Security Number?\": \"Yes, you can open a bank account without a Social Security Number, but you will need to provide an Individual Taxpayer Identification Number (ITIN) instead.\"},\n",
      "                {\"What types of bank accounts are available at this bank?\":\"This bank offers a variety of bank accounts, including checking accounts, savings accounts, money market accounts, and CDs.\"},\n",
      "                {\"Is there a minimum balance requirement to open and maintain a bank account?\": \"Yes, there is a minimum balance requirement for each type of account. The amount varies depending on the type of account you choose.\"},\n",
      "                {\"Are there any monthly fees associated with maintaining a bank account?\":\"Yes, there may be monthly fees associated with maintaining a bank account. The amount varies depending on the type of account you choose and the services you use.\"},\n",
      "                {\"Can I access my bank account online or through a mobile app?\":\"Yes, you can access your bank account online or through a mobile app. This bank offers online banking and a mobile app for its customers.\"},\n",
      "                {\"Can I link my bank account to other financial accounts, such as a credit card or investment account?\":\"Yes, you can link your bank account to other financial accounts, such as a credit card or investment account. This bank offers the ability to link accounts for its customers.\"},\n",
      "                {\"Are there any limitations on the number of transactions I can make with my bank account?\":\"Yes, there may be limitations on the number of transactions you can make with your bank account. The\n"
     ]
    },
    {
     "ename": "JSONDecodeError",
     "evalue": "Unterminated string starting at: line 10 column 109 (char 1875)",
     "output_type": "error",
     "traceback": [
      "\u001b[0;31m---------------------------------------------------------------------------\u001b[0m",
      "\u001b[0;31mJSONDecodeError\u001b[0m                           Traceback (most recent call last)",
      "Cell \u001b[0;32mIn[18], line 3\u001b[0m\n\u001b[1;32m      1\u001b[0m \u001b[39mimport\u001b[39;00m \u001b[39mjson\u001b[39;00m\n\u001b[1;32m      2\u001b[0m \u001b[39mprint\u001b[39m(text)\n\u001b[0;32m----> 3\u001b[0m new_text \u001b[39m=\u001b[39m json\u001b[39m.\u001b[39;49mloads(text)\n\u001b[1;32m      5\u001b[0m pprint(new_text)\n",
      "File \u001b[0;32m/opt/homebrew/Cellar/python@3.10/3.10.10_1/Frameworks/Python.framework/Versions/3.10/lib/python3.10/json/__init__.py:346\u001b[0m, in \u001b[0;36mloads\u001b[0;34m(s, cls, object_hook, parse_float, parse_int, parse_constant, object_pairs_hook, **kw)\u001b[0m\n\u001b[1;32m    341\u001b[0m     s \u001b[39m=\u001b[39m s\u001b[39m.\u001b[39mdecode(detect_encoding(s), \u001b[39m'\u001b[39m\u001b[39msurrogatepass\u001b[39m\u001b[39m'\u001b[39m)\n\u001b[1;32m    343\u001b[0m \u001b[39mif\u001b[39;00m (\u001b[39mcls\u001b[39m \u001b[39mis\u001b[39;00m \u001b[39mNone\u001b[39;00m \u001b[39mand\u001b[39;00m object_hook \u001b[39mis\u001b[39;00m \u001b[39mNone\u001b[39;00m \u001b[39mand\u001b[39;00m\n\u001b[1;32m    344\u001b[0m         parse_int \u001b[39mis\u001b[39;00m \u001b[39mNone\u001b[39;00m \u001b[39mand\u001b[39;00m parse_float \u001b[39mis\u001b[39;00m \u001b[39mNone\u001b[39;00m \u001b[39mand\u001b[39;00m\n\u001b[1;32m    345\u001b[0m         parse_constant \u001b[39mis\u001b[39;00m \u001b[39mNone\u001b[39;00m \u001b[39mand\u001b[39;00m object_pairs_hook \u001b[39mis\u001b[39;00m \u001b[39mNone\u001b[39;00m \u001b[39mand\u001b[39;00m \u001b[39mnot\u001b[39;00m kw):\n\u001b[0;32m--> 346\u001b[0m     \u001b[39mreturn\u001b[39;00m _default_decoder\u001b[39m.\u001b[39;49mdecode(s)\n\u001b[1;32m    347\u001b[0m \u001b[39mif\u001b[39;00m \u001b[39mcls\u001b[39m \u001b[39mis\u001b[39;00m \u001b[39mNone\u001b[39;00m:\n\u001b[1;32m    348\u001b[0m     \u001b[39mcls\u001b[39m \u001b[39m=\u001b[39m JSONDecoder\n",
      "File \u001b[0;32m/opt/homebrew/Cellar/python@3.10/3.10.10_1/Frameworks/Python.framework/Versions/3.10/lib/python3.10/json/decoder.py:337\u001b[0m, in \u001b[0;36mJSONDecoder.decode\u001b[0;34m(self, s, _w)\u001b[0m\n\u001b[1;32m    332\u001b[0m \u001b[39mdef\u001b[39;00m \u001b[39mdecode\u001b[39m(\u001b[39mself\u001b[39m, s, _w\u001b[39m=\u001b[39mWHITESPACE\u001b[39m.\u001b[39mmatch):\n\u001b[1;32m    333\u001b[0m \u001b[39m    \u001b[39m\u001b[39m\"\"\"Return the Python representation of ``s`` (a ``str`` instance\u001b[39;00m\n\u001b[1;32m    334\u001b[0m \u001b[39m    containing a JSON document).\u001b[39;00m\n\u001b[1;32m    335\u001b[0m \n\u001b[1;32m    336\u001b[0m \u001b[39m    \"\"\"\u001b[39;00m\n\u001b[0;32m--> 337\u001b[0m     obj, end \u001b[39m=\u001b[39m \u001b[39mself\u001b[39;49m\u001b[39m.\u001b[39;49mraw_decode(s, idx\u001b[39m=\u001b[39;49m_w(s, \u001b[39m0\u001b[39;49m)\u001b[39m.\u001b[39;49mend())\n\u001b[1;32m    338\u001b[0m     end \u001b[39m=\u001b[39m _w(s, end)\u001b[39m.\u001b[39mend()\n\u001b[1;32m    339\u001b[0m     \u001b[39mif\u001b[39;00m end \u001b[39m!=\u001b[39m \u001b[39mlen\u001b[39m(s):\n",
      "File \u001b[0;32m/opt/homebrew/Cellar/python@3.10/3.10.10_1/Frameworks/Python.framework/Versions/3.10/lib/python3.10/json/decoder.py:353\u001b[0m, in \u001b[0;36mJSONDecoder.raw_decode\u001b[0;34m(self, s, idx)\u001b[0m\n\u001b[1;32m    344\u001b[0m \u001b[39m\u001b[39m\u001b[39m\"\"\"Decode a JSON document from ``s`` (a ``str`` beginning with\u001b[39;00m\n\u001b[1;32m    345\u001b[0m \u001b[39ma JSON document) and return a 2-tuple of the Python\u001b[39;00m\n\u001b[1;32m    346\u001b[0m \u001b[39mrepresentation and the index in ``s`` where the document ended.\u001b[39;00m\n\u001b[0;32m   (...)\u001b[0m\n\u001b[1;32m    350\u001b[0m \n\u001b[1;32m    351\u001b[0m \u001b[39m\"\"\"\u001b[39;00m\n\u001b[1;32m    352\u001b[0m \u001b[39mtry\u001b[39;00m:\n\u001b[0;32m--> 353\u001b[0m     obj, end \u001b[39m=\u001b[39m \u001b[39mself\u001b[39;49m\u001b[39m.\u001b[39;49mscan_once(s, idx)\n\u001b[1;32m    354\u001b[0m \u001b[39mexcept\u001b[39;00m \u001b[39mStopIteration\u001b[39;00m \u001b[39mas\u001b[39;00m err:\n\u001b[1;32m    355\u001b[0m     \u001b[39mraise\u001b[39;00m JSONDecodeError(\u001b[39m\"\u001b[39m\u001b[39mExpecting value\u001b[39m\u001b[39m\"\u001b[39m, s, err\u001b[39m.\u001b[39mvalue) \u001b[39mfrom\u001b[39;00m \u001b[39mNone\u001b[39m\n",
      "\u001b[0;31mJSONDecodeError\u001b[0m: Unterminated string starting at: line 10 column 109 (char 1875)"
     ]
    }
   ],
   "source": [
    "import json\n",
    "print(text)\n",
    "new_text = json.loads(text)\n",
    "\n",
    "pprint(new_text)"
   ]
  },
  {
   "cell_type": "code",
   "execution_count": null,
   "metadata": {},
   "outputs": [
    {
     "name": "stdout",
     "output_type": "stream",
     "text": [
      "                                           questions  \\\n",
      "0               Can applying impact my credit score?   \n",
      "1  Can I apply in-store for the Hudson's Bay Mast...   \n",
      "2                   Why is my application in review?   \n",
      "3        What forms of identification do you accept?   \n",
      "\n",
      "                                             answers  \\\n",
      "0  When you apply for a credit card, it may affec...   \n",
      "1  Yes, you can! You can apply in-store at a Huds...   \n",
      "2  To approve your application, we need to verify...   \n",
      "3  To apply for any of the financial services we ...   \n",
      "\n",
      "                                curie_search_answers  \\\n",
      "0  [0.0033241556957364082, -0.031376685947179794,...   \n",
      "1  [-0.0011646063067018986, -0.013958116993308067...   \n",
      "2  [0.01236796099692583, -0.026605697348713875, 0...   \n",
      "3  [0.007008134387433529, -0.019945211708545685, ...   \n",
      "\n",
      "                              curie_search_questions  \n",
      "0  [-0.012194481678307056, -0.03544021025300026, ...  \n",
      "1  [0.009202724322676659, -0.017308557406067848, ...  \n",
      "2  [-0.011403319425880909, -0.0018180032493546605...  \n",
      "3  [0.02674197219312191, -0.011539097875356674, 0...  \n"
     ]
    }
   ],
   "source": [
    "import pandas as pd\n",
    "\n",
    "# Define the input list of JSON objects\n",
    "json_list = []\n",
    "\n",
    "for l in new_text:\n",
    "    json_list.append([list(l.keys())[0], list(l.values())[0]])\n",
    "# Convert the list of JSON objects to a pandas dataframe\n",
    "df = pd.DataFrame(json_list)\n",
    "# Rename the columns of the dataframe\n",
    "df.columns = ['questions', 'answers']\n",
    "\n",
    "# Print the resulting dataframe\n",
    "\n",
    "df['curie_search_answers'] = df[\"answers\"].apply(lambda x : get_embedding(x, engine = 'embedding-model'))\n",
    "df['curie_search_questions'] = df[\"questions\"].apply(lambda x : get_embedding(x, engine = 'embedding-model'))\n",
    "print(df)\n",
    "\n"
   ]
  },
  {
   "cell_type": "code",
   "execution_count": 11,
   "metadata": {},
   "outputs": [],
   "source": [
    "def search_docs(df, user_query, top_n=3, to_print=True):\n",
    "    embedding = get_embedding(\n",
    "        user_query,\n",
    "        engine=\"embedding-model\"\n",
    "    )\n",
    "    # print(embedding)\n",
    "    df[\"similarities_answers\"] = df.curie_search_answers.apply(lambda x: cosine_similarity(x, embedding))\n",
    "    df[\"similarities_questions\"] = df.curie_search_questions.apply(lambda x: cosine_similarity(x, embedding))\n",
    "    \n",
    "    res = (\n",
    "        df.sort_values(\"similarities_answers\", ascending=False)\n",
    "        .head(top_n)\n",
    "    )\n",
    "    return res\n",
    "\n",
    "def rephrase_answer(question, res, th_answers=0.8, th_questions=0.8):\n",
    "    answers = res[\"answers\"]\n",
    "    similarities_answers = res[\"similarities_answers\"]\n",
    "    similarities_questions = res[\"similarities_questions\"]\n",
    "    prompt = f\"\"\"\n",
    "            The user asked: {question}, and the answers are:\n",
    "            \"\"\"\n",
    "    answer_counter = 0\n",
    "    for k,v in answers.items():\n",
    "        if similarities_answers[k] > th_answers:\n",
    "            prompt += f\"\"\"\n",
    "            {v} \\n\n",
    "            \"\"\"\n",
    "            answer_counter += 1\n",
    "    \n",
    "    if answer_counter == 0:\n",
    "        print(\"no answer found to the question, looking for similar questions\")\n",
    "        for k,v in res[\"questions\"].items():\n",
    "            if similarities_questions[k] > th_questions:\n",
    "                prompt += f\"\"\"\n",
    "                {v}\n",
    "                \"\"\"\n",
    "                print(res[\"questions\"][k])\n",
    "                return res[\"answers\"][k]\n",
    "        return \"Sorry, I don't know the answer to that question.\"\n",
    "    \n",
    "    prompt += \"rephrase the answer to the question above.\"\n",
    "    print(f\"prompt={prompt}\")\n",
    "    response = openai.Completion.create(engine=\"davinchi-003\", prompt=prompt, max_tokens=400)\n",
    "    text = response['choices'][0]['text']\n",
    "    return(text)"
   ]
  },
  {
   "cell_type": "code",
   "execution_count": 12,
   "metadata": {},
   "outputs": [
    {
     "ename": "NameError",
     "evalue": "name 'df' is not defined",
     "output_type": "error",
     "traceback": [
      "\u001b[0;31m---------------------------------------------------------------------------\u001b[0m",
      "\u001b[0;31mNameError\u001b[0m                                 Traceback (most recent call last)",
      "Cell \u001b[0;32mIn[12], line 2\u001b[0m\n\u001b[1;32m      1\u001b[0m user_question \u001b[39m=\u001b[39m \u001b[39m\"\u001b[39m\u001b[39mwill it affect my credit\u001b[39m\u001b[39m\"\u001b[39m\n\u001b[0;32m----> 2\u001b[0m res \u001b[39m=\u001b[39m search_docs(df, user_question, top_n\u001b[39m=\u001b[39m\u001b[39m2\u001b[39m)\n\u001b[1;32m      3\u001b[0m answer \u001b[39m=\u001b[39m rephrase_answer(user_question, res\u001b[39m.\u001b[39mto_dict())\n\u001b[1;32m      4\u001b[0m \u001b[39mprint\u001b[39m(\u001b[39m\"\u001b[39m\u001b[39m\"\u001b[39m)\n",
      "\u001b[0;31mNameError\u001b[0m: name 'df' is not defined"
     ]
    }
   ],
   "source": [
    "user_question = \"will it affect my credit\"\n",
    "res = search_docs(df, user_question, top_n=2)\n",
    "answer = rephrase_answer(user_question, res.to_dict())\n",
    "print(\"\")\n",
    "print(f\"question: {user_question}\")\n",
    "print(\"\")\n",
    "print(\"answer:\")\n",
    "print(\"\")\n",
    "print(answer)"
   ]
  },
  {
   "cell_type": "code",
   "execution_count": 18,
   "metadata": {},
   "outputs": [
    {
     "name": "stdout",
     "output_type": "stream",
     "text": [
      "prompt=\n",
      "            The user asked: Do you accept Quebec health card?, and the answers are:\n",
      "            \n",
      "            To apply for any of the financial services we offer, you must submit identification as part of the application process. We want to always make sure that you really are you! Note: The photos submitted for your application must be taken in real-time during your application process. These photos will be deleted after 90 days. We accept the following forms of ID:  * Provincial driver's license * Provincial identification card * Quebec health card * British Columbia Services Card * British Columbia Health card * Permanent resident card * Canadian passport * Canadian citizenship card issued prior to 2012 * Indian status card We don’t accept the following forms of ID: * Identification issued outside Canada * Canadian identification without a photo * Identification that has been photocopied, scanned, or photographed at a previous date * Expired identification card * Ontario health card \n",
      "\n",
      "            rephrase the answer to the question above.\n",
      "\n",
      "question: Do you accept Quebec health card?\n",
      "\n",
      "answer:\n",
      "\n",
      "\n",
      "\n",
      "            Yes, we accept Quebec health cards as part of the application process for our financial services. In order to complete the application process, you must submit a valid form of identification, such as a Quebec health card, provincial driver's license, provincial identification card, British Columbia Services Card, or British Columbia Health card. We do not accept identification issued outside Canada, any Canadian identification without a photo, photocopied, scanned, or photographed identification documents, expired identification cards, or Ontario health cards.\n"
     ]
    }
   ],
   "source": [
    "user_question = \"Do you accept Quebec health card?\"\n",
    "res = search_docs(df, user_question, top_n=2)\n",
    "answer = rephrase_answer(user_question, res.to_dict())\n",
    "print(\"\")\n",
    "print(f\"question: {user_question}\")\n",
    "print(\"\")\n",
    "print(\"answer:\")\n",
    "print(\"\")\n",
    "print(answer)"
   ]
  },
  {
   "cell_type": "code",
   "execution_count": 19,
   "metadata": {},
   "outputs": [
    {
     "name": "stdout",
     "output_type": "stream",
     "text": [
      "no answer found to the question, looking for similar questions\n",
      "\n",
      "question: Do you accept an israeli Driver licsnce?\n",
      "\n",
      "answer:\n",
      "\n",
      "To apply for any of the financial services we offer, you must submit identification as part of the application process. We want to always make sure that you really are you! Note: The photos submitted for your application must be taken in real-time during your application process. These photos will be deleted after 90 days. We accept the following forms of ID:  * Provincial driver's license * Provincial identification card * Quebec health card * British Columbia Services Card * British Columbia Health card * Permanent resident card * Canadian passport * Canadian citizenship card issued prior to 2012 * Indian status card We don’t accept the following forms of ID: * Identification issued outside Canada * Canadian identification without a photo * Identification that has been photocopied, scanned, or photographed at a previous date * Expired identification card * Ontario health card\n"
     ]
    }
   ],
   "source": [
    "user_question = \"Do you accept an israeli Driver licsnce?\"\n",
    "res = search_docs(df, user_question, top_n=2)\n",
    "answer = rephrase_answer(user_question, res.to_dict())\n",
    "print(\"\")\n",
    "print(f\"question: {user_question}\")\n",
    "print(\"\")\n",
    "print(\"answer:\")\n",
    "print(\"\")\n",
    "print(answer)"
   ]
  },
  {
   "cell_type": "code",
   "execution_count": null,
   "metadata": {},
   "outputs": [
    {
     "name": "stdout",
     "output_type": "stream",
     "text": [
      "\n",
      "question: When Ben Gurion were born?\n",
      "\n",
      "answer:\n",
      "\n",
      "Sorry, I don't know the answer to that question.\n"
     ]
    }
   ],
   "source": [
    "user_question = \"When Ben Gurion were born?\"\n",
    "res = search_docs(df, user_question, top_n=2)\n",
    "answer = rephrase_answer(user_question, res.to_dict())\n",
    "print(\"\")\n",
    "print(f\"question: {user_question}\")\n",
    "print(\"\")\n",
    "print(\"answer:\")\n",
    "print(\"\")\n",
    "print(answer)"
   ]
  },
  {
   "cell_type": "code",
   "execution_count": null,
   "metadata": {},
   "outputs": [],
   "source": []
  }
 ],
 "metadata": {
  "kernelspec": {
   "display_name": ".venv",
   "language": "python",
   "name": "python3"
  },
  "language_info": {
   "codemirror_mode": {
    "name": "ipython",
    "version": 3
   },
   "file_extension": ".py",
   "mimetype": "text/x-python",
   "name": "python",
   "nbconvert_exporter": "python",
   "pygments_lexer": "ipython3",
   "version": "3.10.10"
  },
  "orig_nbformat": 4,
  "vscode": {
   "interpreter": {
    "hash": "966109304b06f24475972beef482557bb5471614be91d127d43959966e034004"
   }
  }
 },
 "nbformat": 4,
 "nbformat_minor": 2
}
